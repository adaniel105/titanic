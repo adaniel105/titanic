{
 "cells": [
  {
   "cell_type": "code",
   "execution_count": 1,
   "id": "3695dfa4",
   "metadata": {
    "_cell_guid": "b1076dfc-b9ad-4769-8c92-a6c4dae69d19",
    "_uuid": "8f2839f25d086af736a60e9eeb907d3b93b6e0e5",
    "execution": {
     "iopub.execute_input": "2023-12-28T12:35:40.859741Z",
     "iopub.status.busy": "2023-12-28T12:35:40.859256Z",
     "iopub.status.idle": "2023-12-28T12:35:41.351659Z",
     "shell.execute_reply": "2023-12-28T12:35:41.350372Z"
    },
    "papermill": {
     "duration": 0.503124,
     "end_time": "2023-12-28T12:35:41.354001",
     "exception": false,
     "start_time": "2023-12-28T12:35:40.850877",
     "status": "completed"
    },
    "tags": []
   },
   "outputs": [
    {
     "name": "stdout",
     "output_type": "stream",
     "text": [
      "/kaggle/input/titanic/train.csv\n",
      "/kaggle/input/titanic/test.csv\n",
      "/kaggle/input/titanic/gender_submission.csv\n"
     ]
    }
   ],
   "source": [
    "# This Python 3 environment comes with many helpful analytics libraries installed\n",
    "# It is defined by the kaggle/python Docker image: https://github.com/kaggle/docker-python\n",
    "# For example, here's several helpful packages to load\n",
    "\n",
    "import numpy as np # linear algebra\n",
    "import pandas as pd # data processing, CSV file I/O (e.g. pd.read_csv)\n",
    "\n",
    "# Input data files are available in the read-only \"../input/\" directory\n",
    "# For example, running this (by clicking run or pressing Shift+Enter) will list all files under the input directory\n",
    "\n",
    "import os\n",
    "for dirname, _, filenames in os.walk('/kaggle/input'):\n",
    "    for filename in filenames:\n",
    "        print(os.path.join(dirname, filename))\n",
    "\n",
    "# You can write up to 20GB to the current directory (/kaggle/working/) that gets preserved as output when you create a version using \"Save & Run All\" \n",
    "# You can also write temporary files to /kaggle/temp/, but they won't be saved outside of the current session"
   ]
  },
  {
   "cell_type": "code",
   "execution_count": 2,
   "id": "e2a01504",
   "metadata": {
    "execution": {
     "iopub.execute_input": "2023-12-28T12:35:41.368394Z",
     "iopub.status.busy": "2023-12-28T12:35:41.366999Z",
     "iopub.status.idle": "2023-12-28T12:35:41.406181Z",
     "shell.execute_reply": "2023-12-28T12:35:41.404727Z"
    },
    "papermill": {
     "duration": 0.049364,
     "end_time": "2023-12-28T12:35:41.409262",
     "exception": false,
     "start_time": "2023-12-28T12:35:41.359898",
     "status": "completed"
    },
    "tags": []
   },
   "outputs": [],
   "source": [
    "train_data = pd.read_csv(\"../input/titanic/train.csv\")\n",
    "test_data = pd.read_csv(\"../input/titanic/test.csv\")"
   ]
  },
  {
   "cell_type": "code",
   "execution_count": 3,
   "id": "1d9d89ed",
   "metadata": {
    "execution": {
     "iopub.execute_input": "2023-12-28T12:35:41.422592Z",
     "iopub.status.busy": "2023-12-28T12:35:41.422076Z",
     "iopub.status.idle": "2023-12-28T12:35:41.456199Z",
     "shell.execute_reply": "2023-12-28T12:35:41.455366Z"
    },
    "papermill": {
     "duration": 0.044181,
     "end_time": "2023-12-28T12:35:41.459023",
     "exception": false,
     "start_time": "2023-12-28T12:35:41.414842",
     "status": "completed"
    },
    "tags": []
   },
   "outputs": [
    {
     "name": "stdout",
     "output_type": "stream",
     "text": [
      "<class 'pandas.core.frame.DataFrame'>\n",
      "RangeIndex: 891 entries, 0 to 890\n",
      "Data columns (total 12 columns):\n",
      " #   Column       Non-Null Count  Dtype  \n",
      "---  ------       --------------  -----  \n",
      " 0   PassengerId  891 non-null    int64  \n",
      " 1   Survived     891 non-null    int64  \n",
      " 2   Pclass       891 non-null    int64  \n",
      " 3   Name         891 non-null    object \n",
      " 4   Sex          891 non-null    object \n",
      " 5   Age          714 non-null    float64\n",
      " 6   SibSp        891 non-null    int64  \n",
      " 7   Parch        891 non-null    int64  \n",
      " 8   Ticket       891 non-null    object \n",
      " 9   Fare         891 non-null    float64\n",
      " 10  Cabin        204 non-null    object \n",
      " 11  Embarked     889 non-null    object \n",
      "dtypes: float64(2), int64(5), object(5)\n",
      "memory usage: 83.7+ KB\n"
     ]
    }
   ],
   "source": [
    "train_data.info()"
   ]
  },
  {
   "cell_type": "code",
   "execution_count": 4,
   "id": "5fc02af7",
   "metadata": {
    "execution": {
     "iopub.execute_input": "2023-12-28T12:35:41.473060Z",
     "iopub.status.busy": "2023-12-28T12:35:41.471833Z",
     "iopub.status.idle": "2023-12-28T12:35:41.483190Z",
     "shell.execute_reply": "2023-12-28T12:35:41.482345Z"
    },
    "papermill": {
     "duration": 0.020446,
     "end_time": "2023-12-28T12:35:41.485301",
     "exception": false,
     "start_time": "2023-12-28T12:35:41.464855",
     "status": "completed"
    },
    "tags": []
   },
   "outputs": [
    {
     "data": {
      "text/plain": [
       "PassengerId      int64\n",
       "Survived         int64\n",
       "Pclass           int64\n",
       "Name            object\n",
       "Sex             object\n",
       "Age            float64\n",
       "SibSp            int64\n",
       "Parch            int64\n",
       "Ticket          object\n",
       "Fare           float64\n",
       "Cabin           object\n",
       "Embarked        object\n",
       "dtype: object"
      ]
     },
     "execution_count": 4,
     "metadata": {},
     "output_type": "execute_result"
    }
   ],
   "source": [
    "train_data.dtypes"
   ]
  },
  {
   "cell_type": "code",
   "execution_count": 5,
   "id": "a082e248",
   "metadata": {
    "execution": {
     "iopub.execute_input": "2023-12-28T12:35:41.499994Z",
     "iopub.status.busy": "2023-12-28T12:35:41.499053Z",
     "iopub.status.idle": "2023-12-28T12:35:41.508216Z",
     "shell.execute_reply": "2023-12-28T12:35:41.506973Z"
    },
    "papermill": {
     "duration": 0.019607,
     "end_time": "2023-12-28T12:35:41.511052",
     "exception": false,
     "start_time": "2023-12-28T12:35:41.491445",
     "status": "completed"
    },
    "tags": []
   },
   "outputs": [],
   "source": [
    "train_data[\"Age\"].fillna(train_data[\"Age\"].mean(), inplace=True)\n",
    "test_data[\"Age\"].fillna(test_data[\"Age\"].mean(), inplace=True)"
   ]
  },
  {
   "cell_type": "code",
   "execution_count": 6,
   "id": "4368e79e",
   "metadata": {
    "execution": {
     "iopub.execute_input": "2023-12-28T12:35:41.525382Z",
     "iopub.status.busy": "2023-12-28T12:35:41.524893Z",
     "iopub.status.idle": "2023-12-28T12:35:41.549292Z",
     "shell.execute_reply": "2023-12-28T12:35:41.547949Z"
    },
    "papermill": {
     "duration": 0.034544,
     "end_time": "2023-12-28T12:35:41.551912",
     "exception": false,
     "start_time": "2023-12-28T12:35:41.517368",
     "status": "completed"
    },
    "tags": []
   },
   "outputs": [
    {
     "data": {
      "text/plain": [
       "0"
      ]
     },
     "execution_count": 6,
     "metadata": {},
     "output_type": "execute_result"
    }
   ],
   "source": [
    "train_data = train_data.drop(columns=[\"Name\"])\n",
    "train_data[\"Sex\"] = train_data[\"Sex\"].map({\"male\" : 1, \"female\" : 0})\n",
    "train_data[\"Embarked\"].fillna(train_data[\"Embarked\"].mode()[0], inplace=True)\n",
    "\n",
    "\n",
    "test_data = test_data.drop(columns=[\"Name\"])\n",
    "test_data[\"Sex\"] = test_data[\"Sex\"].map({\"male\" : 1, \"female\" : 0})\n",
    "test_data[\"Embarked\"].fillna(test_data[\"Embarked\"].mode()[0], inplace=True)\n",
    "\n",
    "train_data.Embarked.isna().sum()\n"
   ]
  },
  {
   "cell_type": "code",
   "execution_count": 7,
   "id": "095cf3af",
   "metadata": {
    "execution": {
     "iopub.execute_input": "2023-12-28T12:35:41.566703Z",
     "iopub.status.busy": "2023-12-28T12:35:41.566266Z",
     "iopub.status.idle": "2023-12-28T12:35:41.582341Z",
     "shell.execute_reply": "2023-12-28T12:35:41.581038Z"
    },
    "papermill": {
     "duration": 0.02659,
     "end_time": "2023-12-28T12:35:41.584924",
     "exception": false,
     "start_time": "2023-12-28T12:35:41.558334",
     "status": "completed"
    },
    "tags": []
   },
   "outputs": [],
   "source": [
    "train_data = train_data.join(pd.get_dummies(train_data[\"Embarked\"], prefix=\"Embarked\"))\n",
    "train_data.drop([\"Embarked\", \"Ticket\"], axis=1, inplace=True)\n",
    "\n",
    "test_data = test_data.join(pd.get_dummies(test_data[\"Embarked\"], prefix=\"Embarked\"))\n",
    "test_data.drop([\"Embarked\", \"Ticket\"], axis=1, inplace=True)"
   ]
  },
  {
   "cell_type": "code",
   "execution_count": 8,
   "id": "c9622658",
   "metadata": {
    "execution": {
     "iopub.execute_input": "2023-12-28T12:35:41.599579Z",
     "iopub.status.busy": "2023-12-28T12:35:41.599128Z",
     "iopub.status.idle": "2023-12-28T12:35:41.607780Z",
     "shell.execute_reply": "2023-12-28T12:35:41.606674Z"
    },
    "papermill": {
     "duration": 0.018717,
     "end_time": "2023-12-28T12:35:41.609946",
     "exception": false,
     "start_time": "2023-12-28T12:35:41.591229",
     "status": "completed"
    },
    "tags": []
   },
   "outputs": [],
   "source": [
    "train_data[\"cabin_letters\"] = train_data.Cabin.apply(lambda x: str(x)[0])\n",
    "test_data[\"cabin_letters\"] = test_data.Cabin.apply(lambda x: str(x)[0])\n"
   ]
  },
  {
   "cell_type": "code",
   "execution_count": 9,
   "id": "88fd0880",
   "metadata": {
    "execution": {
     "iopub.execute_input": "2023-12-28T12:35:41.624153Z",
     "iopub.status.busy": "2023-12-28T12:35:41.623776Z",
     "iopub.status.idle": "2023-12-28T12:35:41.636390Z",
     "shell.execute_reply": "2023-12-28T12:35:41.635609Z"
    },
    "papermill": {
     "duration": 0.022588,
     "end_time": "2023-12-28T12:35:41.638701",
     "exception": false,
     "start_time": "2023-12-28T12:35:41.616113",
     "status": "completed"
    },
    "tags": []
   },
   "outputs": [],
   "source": [
    "train_data = train_data.join(pd.get_dummies(train_data['cabin_letters'], prefix=\"cabin_letters\"))\n",
    "train_data.drop([\"Cabin\", \"cabin_letters\"], axis=1, inplace=True)\n",
    "\n",
    "test_data = test_data.join(pd.get_dummies(test_data['cabin_letters'], prefix=\"cabin_letters\"))\n",
    "test_data.drop([\"Cabin\", \"cabin_letters\"], axis=1, inplace=True)\n",
    "\n",
    "\n"
   ]
  },
  {
   "cell_type": "code",
   "execution_count": 10,
   "id": "e2691b1b",
   "metadata": {
    "execution": {
     "iopub.execute_input": "2023-12-28T12:35:41.652707Z",
     "iopub.status.busy": "2023-12-28T12:35:41.652317Z",
     "iopub.status.idle": "2023-12-28T12:35:41.661894Z",
     "shell.execute_reply": "2023-12-28T12:35:41.660855Z"
    },
    "papermill": {
     "duration": 0.019709,
     "end_time": "2023-12-28T12:35:41.664658",
     "exception": false,
     "start_time": "2023-12-28T12:35:41.644949",
     "status": "completed"
    },
    "tags": []
   },
   "outputs": [
    {
     "name": "stdout",
     "output_type": "stream",
     "text": [
      "PassengerId        0\n",
      "Survived           0\n",
      "Pclass             0\n",
      "Sex                0\n",
      "Age                0\n",
      "SibSp              0\n",
      "Parch              0\n",
      "Fare               0\n",
      "Embarked_C         0\n",
      "Embarked_Q         0\n",
      "Embarked_S         0\n",
      "cabin_letters_A    0\n",
      "cabin_letters_B    0\n",
      "cabin_letters_C    0\n",
      "cabin_letters_D    0\n",
      "cabin_letters_E    0\n",
      "cabin_letters_F    0\n",
      "cabin_letters_G    0\n",
      "cabin_letters_T    0\n",
      "cabin_letters_n    0\n",
      "dtype: int64\n",
      "PassengerId        0\n",
      "Pclass             0\n",
      "Sex                0\n",
      "Age                0\n",
      "SibSp              0\n",
      "Parch              0\n",
      "Fare               1\n",
      "Embarked_C         0\n",
      "Embarked_Q         0\n",
      "Embarked_S         0\n",
      "cabin_letters_A    0\n",
      "cabin_letters_B    0\n",
      "cabin_letters_C    0\n",
      "cabin_letters_D    0\n",
      "cabin_letters_E    0\n",
      "cabin_letters_F    0\n",
      "cabin_letters_G    0\n",
      "cabin_letters_n    0\n",
      "dtype: int64\n"
     ]
    }
   ],
   "source": [
    "print(train_data.isna().sum())\n",
    "print(test_data.isna().sum())"
   ]
  },
  {
   "cell_type": "code",
   "execution_count": 11,
   "id": "b8d2bdc0",
   "metadata": {
    "execution": {
     "iopub.execute_input": "2023-12-28T12:35:41.678898Z",
     "iopub.status.busy": "2023-12-28T12:35:41.678523Z",
     "iopub.status.idle": "2023-12-28T12:35:41.683924Z",
     "shell.execute_reply": "2023-12-28T12:35:41.683218Z"
    },
    "papermill": {
     "duration": 0.015347,
     "end_time": "2023-12-28T12:35:41.686333",
     "exception": false,
     "start_time": "2023-12-28T12:35:41.670986",
     "status": "completed"
    },
    "tags": []
   },
   "outputs": [],
   "source": [
    "test_data['Fare'].fillna(test_data['Fare'].mean(), inplace=True)"
   ]
  },
  {
   "cell_type": "markdown",
   "id": "00c5ede2",
   "metadata": {
    "papermill": {
     "duration": 0.005807,
     "end_time": "2023-12-28T12:35:41.698412",
     "exception": false,
     "start_time": "2023-12-28T12:35:41.692605",
     "status": "completed"
    },
    "tags": []
   },
   "source": [
    "Scaling and standardization of data"
   ]
  },
  {
   "cell_type": "code",
   "execution_count": 12,
   "id": "6b32002c",
   "metadata": {
    "execution": {
     "iopub.execute_input": "2023-12-28T12:35:41.712504Z",
     "iopub.status.busy": "2023-12-28T12:35:41.712037Z",
     "iopub.status.idle": "2023-12-28T12:35:42.976146Z",
     "shell.execute_reply": "2023-12-28T12:35:42.974577Z"
    },
    "papermill": {
     "duration": 1.274751,
     "end_time": "2023-12-28T12:35:42.979217",
     "exception": false,
     "start_time": "2023-12-28T12:35:41.704466",
     "status": "completed"
    },
    "tags": []
   },
   "outputs": [],
   "source": [
    "from sklearn.preprocessing import StandardScaler\n",
    "ss = StandardScaler()\n",
    "\n",
    "features = [ 'Pclass', 'Sex', 'Age', 'SibSp', 'Parch',\n",
    "       'Fare', 'Embarked_C', 'Embarked_Q', 'Embarked_S', 'cabin_letters_A',\n",
    "       'cabin_letters_B', 'cabin_letters_C', 'cabin_letters_D',\n",
    "       'cabin_letters_E', 'cabin_letters_F', 'cabin_letters_G','cabin_letters_n'] \n",
    "\n",
    "train_y = train_data[\"Survived\"]\n",
    "train_data.drop(\"Survived\", axis=1, inplace=True)\n",
    "\n",
    "train_data_scaled = ss.fit_transform(train_data[features])\n",
    "test_data_scaled = ss.transform(test_data[features])"
   ]
  },
  {
   "cell_type": "code",
   "execution_count": 13,
   "id": "63bedd7b",
   "metadata": {
    "execution": {
     "iopub.execute_input": "2023-12-28T12:35:42.994126Z",
     "iopub.status.busy": "2023-12-28T12:35:42.993663Z",
     "iopub.status.idle": "2023-12-28T12:35:43.782396Z",
     "shell.execute_reply": "2023-12-28T12:35:43.781096Z"
    },
    "papermill": {
     "duration": 0.799985,
     "end_time": "2023-12-28T12:35:43.785742",
     "exception": false,
     "start_time": "2023-12-28T12:35:42.985757",
     "status": "completed"
    },
    "tags": []
   },
   "outputs": [],
   "source": [
    "from sklearn.ensemble import RandomForestClassifier\n",
    "\n",
    "\n",
    "rf = RandomForestClassifier()\n",
    "\n",
    "rf.fit(train_data_scaled, train_y)\n",
    "predictions = rf.predict(test_data_scaled)\n",
    "\n",
    "output= pd.DataFrame({'PassengerId' : test_data.PassengerId, 'Survived' : predictions})\n",
    "output.to_csv('submission.csv', index= False)"
   ]
  }
 ],
 "metadata": {
  "kaggle": {
   "accelerator": "none",
   "dataSources": [
    {
     "databundleVersionId": 26502,
     "sourceId": 3136,
     "sourceType": "competition"
    }
   ],
   "dockerImageVersionId": 30626,
   "isGpuEnabled": false,
   "isInternetEnabled": false,
   "language": "python",
   "sourceType": "notebook"
  },
  "kernelspec": {
   "display_name": "Python 3",
   "language": "python",
   "name": "python3"
  },
  "language_info": {
   "codemirror_mode": {
    "name": "ipython",
    "version": 3
   },
   "file_extension": ".py",
   "mimetype": "text/x-python",
   "name": "python",
   "nbconvert_exporter": "python",
   "pygments_lexer": "ipython3",
   "version": "3.10.12"
  },
  "papermill": {
   "default_parameters": {},
   "duration": 7.00898,
   "end_time": "2023-12-28T12:35:44.414925",
   "environment_variables": {},
   "exception": null,
   "input_path": "__notebook__.ipynb",
   "output_path": "__notebook__.ipynb",
   "parameters": {},
   "start_time": "2023-12-28T12:35:37.405945",
   "version": "2.4.0"
  }
 },
 "nbformat": 4,
 "nbformat_minor": 5
}
