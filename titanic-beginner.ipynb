{
 "cells": [
  {
   "cell_type": "code",
   "execution_count": 1,
   "id": "2fcb1ad0",
   "metadata": {
    "_cell_guid": "b1076dfc-b9ad-4769-8c92-a6c4dae69d19",
    "_uuid": "8f2839f25d086af736a60e9eeb907d3b93b6e0e5",
    "execution": {
     "iopub.execute_input": "2023-12-28T13:03:54.994954Z",
     "iopub.status.busy": "2023-12-28T13:03:54.994278Z",
     "iopub.status.idle": "2023-12-28T13:03:55.318396Z",
     "shell.execute_reply": "2023-12-28T13:03:55.316510Z"
    },
    "papermill": {
     "duration": 0.333044,
     "end_time": "2023-12-28T13:03:55.321029",
     "exception": false,
     "start_time": "2023-12-28T13:03:54.987985",
     "status": "completed"
    },
    "tags": []
   },
   "outputs": [
    {
     "name": "stdout",
     "output_type": "stream",
     "text": [
      "/kaggle/input/titanic/train.csv\n",
      "/kaggle/input/titanic/test.csv\n",
      "/kaggle/input/titanic/gender_submission.csv\n"
     ]
    }
   ],
   "source": [
    "# This Python 3 environment comes with many helpful analytics libraries installed\n",
    "# It is defined by the kaggle/python Docker image: https://github.com/kaggle/docker-python\n",
    "# For example, here's several helpful packages to load\n",
    "\n",
    "import numpy as np # linear algebra\n",
    "import pandas as pd # data processing, CSV file I/O (e.g. pd.read_csv)\n",
    "\n",
    "# Input data files are available in the read-only \"../input/\" directory\n",
    "# For example, running this (by clicking run or pressing Shift+Enter) will list all files under the input directory\n",
    "\n",
    "import os\n",
    "for dirname, _, filenames in os.walk('/kaggle/input'):\n",
    "    for filename in filenames:\n",
    "        print(os.path.join(dirname, filename))\n",
    "\n",
    "# You can write up to 20GB to the current directory (/kaggle/working/) that gets preserved as output when you create a version using \"Save & Run All\" \n",
    "# You can also write temporary files to /kaggle/temp/, but they won't be saved outside of the current session"
   ]
  },
  {
   "cell_type": "code",
   "execution_count": 2,
   "id": "5d428b38",
   "metadata": {
    "execution": {
     "iopub.execute_input": "2023-12-28T13:03:55.330415Z",
     "iopub.status.busy": "2023-12-28T13:03:55.329936Z",
     "iopub.status.idle": "2023-12-28T13:03:55.357142Z",
     "shell.execute_reply": "2023-12-28T13:03:55.355914Z"
    },
    "papermill": {
     "duration": 0.034301,
     "end_time": "2023-12-28T13:03:55.359405",
     "exception": false,
     "start_time": "2023-12-28T13:03:55.325104",
     "status": "completed"
    },
    "tags": []
   },
   "outputs": [],
   "source": [
    "train_data = pd.read_csv(\"../input/titanic/train.csv\")\n",
    "test_data = pd.read_csv(\"../input/titanic/test.csv\")"
   ]
  },
  {
   "cell_type": "code",
   "execution_count": 3,
   "id": "17d04a7f",
   "metadata": {
    "execution": {
     "iopub.execute_input": "2023-12-28T13:03:55.368294Z",
     "iopub.status.busy": "2023-12-28T13:03:55.367919Z",
     "iopub.status.idle": "2023-12-28T13:03:55.399855Z",
     "shell.execute_reply": "2023-12-28T13:03:55.398382Z"
    },
    "papermill": {
     "duration": 0.0395,
     "end_time": "2023-12-28T13:03:55.402606",
     "exception": false,
     "start_time": "2023-12-28T13:03:55.363106",
     "status": "completed"
    },
    "tags": []
   },
   "outputs": [
    {
     "name": "stdout",
     "output_type": "stream",
     "text": [
      "<class 'pandas.core.frame.DataFrame'>\n",
      "RangeIndex: 891 entries, 0 to 890\n",
      "Data columns (total 12 columns):\n",
      " #   Column       Non-Null Count  Dtype  \n",
      "---  ------       --------------  -----  \n",
      " 0   PassengerId  891 non-null    int64  \n",
      " 1   Survived     891 non-null    int64  \n",
      " 2   Pclass       891 non-null    int64  \n",
      " 3   Name         891 non-null    object \n",
      " 4   Sex          891 non-null    object \n",
      " 5   Age          714 non-null    float64\n",
      " 6   SibSp        891 non-null    int64  \n",
      " 7   Parch        891 non-null    int64  \n",
      " 8   Ticket       891 non-null    object \n",
      " 9   Fare         891 non-null    float64\n",
      " 10  Cabin        204 non-null    object \n",
      " 11  Embarked     889 non-null    object \n",
      "dtypes: float64(2), int64(5), object(5)\n",
      "memory usage: 83.7+ KB\n"
     ]
    }
   ],
   "source": [
    "train_data.info()"
   ]
  },
  {
   "cell_type": "code",
   "execution_count": 4,
   "id": "476a7791",
   "metadata": {
    "execution": {
     "iopub.execute_input": "2023-12-28T13:03:55.411687Z",
     "iopub.status.busy": "2023-12-28T13:03:55.411324Z",
     "iopub.status.idle": "2023-12-28T13:03:55.419897Z",
     "shell.execute_reply": "2023-12-28T13:03:55.419006Z"
    },
    "papermill": {
     "duration": 0.015254,
     "end_time": "2023-12-28T13:03:55.421735",
     "exception": false,
     "start_time": "2023-12-28T13:03:55.406481",
     "status": "completed"
    },
    "tags": []
   },
   "outputs": [
    {
     "data": {
      "text/plain": [
       "PassengerId      int64\n",
       "Survived         int64\n",
       "Pclass           int64\n",
       "Name            object\n",
       "Sex             object\n",
       "Age            float64\n",
       "SibSp            int64\n",
       "Parch            int64\n",
       "Ticket          object\n",
       "Fare           float64\n",
       "Cabin           object\n",
       "Embarked        object\n",
       "dtype: object"
      ]
     },
     "execution_count": 4,
     "metadata": {},
     "output_type": "execute_result"
    }
   ],
   "source": [
    "train_data.dtypes"
   ]
  },
  {
   "cell_type": "code",
   "execution_count": 5,
   "id": "142f5349",
   "metadata": {
    "execution": {
     "iopub.execute_input": "2023-12-28T13:03:55.430458Z",
     "iopub.status.busy": "2023-12-28T13:03:55.430040Z",
     "iopub.status.idle": "2023-12-28T13:03:55.438497Z",
     "shell.execute_reply": "2023-12-28T13:03:55.437456Z"
    },
    "papermill": {
     "duration": 0.01531,
     "end_time": "2023-12-28T13:03:55.440852",
     "exception": false,
     "start_time": "2023-12-28T13:03:55.425542",
     "status": "completed"
    },
    "tags": []
   },
   "outputs": [],
   "source": [
    "train_data[\"Age\"].fillna(train_data[\"Age\"].mean(), inplace=True)\n",
    "test_data[\"Age\"].fillna(test_data[\"Age\"].mean(), inplace=True)"
   ]
  },
  {
   "cell_type": "code",
   "execution_count": 6,
   "id": "ebd56b16",
   "metadata": {
    "execution": {
     "iopub.execute_input": "2023-12-28T13:03:55.450505Z",
     "iopub.status.busy": "2023-12-28T13:03:55.449876Z",
     "iopub.status.idle": "2023-12-28T13:03:55.470721Z",
     "shell.execute_reply": "2023-12-28T13:03:55.469257Z"
    },
    "papermill": {
     "duration": 0.028442,
     "end_time": "2023-12-28T13:03:55.473303",
     "exception": false,
     "start_time": "2023-12-28T13:03:55.444861",
     "status": "completed"
    },
    "tags": []
   },
   "outputs": [
    {
     "data": {
      "text/plain": [
       "0"
      ]
     },
     "execution_count": 6,
     "metadata": {},
     "output_type": "execute_result"
    }
   ],
   "source": [
    "train_data = train_data.drop(columns=[\"Name\"])\n",
    "train_data[\"Sex\"] = train_data[\"Sex\"].map({\"male\" : 1, \"female\" : 0})\n",
    "train_data[\"Embarked\"].fillna(train_data[\"Embarked\"].mode()[0], inplace=True)\n",
    "\n",
    "\n",
    "test_data = test_data.drop(columns=[\"Name\"])\n",
    "test_data[\"Sex\"] = test_data[\"Sex\"].map({\"male\" : 1, \"female\" : 0})\n",
    "test_data[\"Embarked\"].fillna(test_data[\"Embarked\"].mode()[0], inplace=True)\n",
    "\n",
    "train_data.Embarked.isna().sum()\n"
   ]
  },
  {
   "cell_type": "code",
   "execution_count": 7,
   "id": "3e79e771",
   "metadata": {
    "execution": {
     "iopub.execute_input": "2023-12-28T13:03:55.482925Z",
     "iopub.status.busy": "2023-12-28T13:03:55.482557Z",
     "iopub.status.idle": "2023-12-28T13:03:55.495657Z",
     "shell.execute_reply": "2023-12-28T13:03:55.494152Z"
    },
    "papermill": {
     "duration": 0.020782,
     "end_time": "2023-12-28T13:03:55.498217",
     "exception": false,
     "start_time": "2023-12-28T13:03:55.477435",
     "status": "completed"
    },
    "tags": []
   },
   "outputs": [],
   "source": [
    "train_data = train_data.join(pd.get_dummies(train_data[\"Embarked\"], prefix=\"Embarked\"))\n",
    "train_data.drop([\"Embarked\", \"Ticket\"], axis=1, inplace=True)\n",
    "\n",
    "test_data = test_data.join(pd.get_dummies(test_data[\"Embarked\"], prefix=\"Embarked\"))\n",
    "test_data.drop([\"Embarked\", \"Ticket\"], axis=1, inplace=True)"
   ]
  },
  {
   "cell_type": "code",
   "execution_count": 8,
   "id": "d4275726",
   "metadata": {
    "execution": {
     "iopub.execute_input": "2023-12-28T13:03:55.507592Z",
     "iopub.status.busy": "2023-12-28T13:03:55.507200Z",
     "iopub.status.idle": "2023-12-28T13:03:55.515549Z",
     "shell.execute_reply": "2023-12-28T13:03:55.514107Z"
    },
    "papermill": {
     "duration": 0.015736,
     "end_time": "2023-12-28T13:03:55.518013",
     "exception": false,
     "start_time": "2023-12-28T13:03:55.502277",
     "status": "completed"
    },
    "tags": []
   },
   "outputs": [],
   "source": [
    "train_data[\"cabin_letters\"] = train_data.Cabin.apply(lambda x: str(x)[0])\n",
    "test_data[\"cabin_letters\"] = test_data.Cabin.apply(lambda x: str(x)[0])\n"
   ]
  },
  {
   "cell_type": "code",
   "execution_count": 9,
   "id": "bdcaee96",
   "metadata": {
    "execution": {
     "iopub.execute_input": "2023-12-28T13:03:55.527883Z",
     "iopub.status.busy": "2023-12-28T13:03:55.527494Z",
     "iopub.status.idle": "2023-12-28T13:03:55.538696Z",
     "shell.execute_reply": "2023-12-28T13:03:55.537224Z"
    },
    "papermill": {
     "duration": 0.019076,
     "end_time": "2023-12-28T13:03:55.541266",
     "exception": false,
     "start_time": "2023-12-28T13:03:55.522190",
     "status": "completed"
    },
    "tags": []
   },
   "outputs": [],
   "source": [
    "train_data = train_data.join(pd.get_dummies(train_data['cabin_letters'], prefix=\"cabin_letters\"))\n",
    "train_data.drop([\"Cabin\", \"cabin_letters\"], axis=1, inplace=True)\n",
    "\n",
    "test_data = test_data.join(pd.get_dummies(test_data['cabin_letters'], prefix=\"cabin_letters\"))\n",
    "test_data.drop([\"Cabin\", \"cabin_letters\"], axis=1, inplace=True)\n",
    "\n",
    "\n"
   ]
  },
  {
   "cell_type": "code",
   "execution_count": 10,
   "id": "9eccb6f8",
   "metadata": {
    "execution": {
     "iopub.execute_input": "2023-12-28T13:03:55.551010Z",
     "iopub.status.busy": "2023-12-28T13:03:55.550624Z",
     "iopub.status.idle": "2023-12-28T13:03:55.559100Z",
     "shell.execute_reply": "2023-12-28T13:03:55.558158Z"
    },
    "papermill": {
     "duration": 0.015793,
     "end_time": "2023-12-28T13:03:55.561130",
     "exception": false,
     "start_time": "2023-12-28T13:03:55.545337",
     "status": "completed"
    },
    "tags": []
   },
   "outputs": [
    {
     "name": "stdout",
     "output_type": "stream",
     "text": [
      "PassengerId        0\n",
      "Survived           0\n",
      "Pclass             0\n",
      "Sex                0\n",
      "Age                0\n",
      "SibSp              0\n",
      "Parch              0\n",
      "Fare               0\n",
      "Embarked_C         0\n",
      "Embarked_Q         0\n",
      "Embarked_S         0\n",
      "cabin_letters_A    0\n",
      "cabin_letters_B    0\n",
      "cabin_letters_C    0\n",
      "cabin_letters_D    0\n",
      "cabin_letters_E    0\n",
      "cabin_letters_F    0\n",
      "cabin_letters_G    0\n",
      "cabin_letters_T    0\n",
      "cabin_letters_n    0\n",
      "dtype: int64\n",
      "PassengerId        0\n",
      "Pclass             0\n",
      "Sex                0\n",
      "Age                0\n",
      "SibSp              0\n",
      "Parch              0\n",
      "Fare               1\n",
      "Embarked_C         0\n",
      "Embarked_Q         0\n",
      "Embarked_S         0\n",
      "cabin_letters_A    0\n",
      "cabin_letters_B    0\n",
      "cabin_letters_C    0\n",
      "cabin_letters_D    0\n",
      "cabin_letters_E    0\n",
      "cabin_letters_F    0\n",
      "cabin_letters_G    0\n",
      "cabin_letters_n    0\n",
      "dtype: int64\n"
     ]
    }
   ],
   "source": [
    "print(train_data.isna().sum())\n",
    "print(test_data.isna().sum())"
   ]
  },
  {
   "cell_type": "code",
   "execution_count": 11,
   "id": "56918df4",
   "metadata": {
    "execution": {
     "iopub.execute_input": "2023-12-28T13:03:55.571015Z",
     "iopub.status.busy": "2023-12-28T13:03:55.570631Z",
     "iopub.status.idle": "2023-12-28T13:03:55.576722Z",
     "shell.execute_reply": "2023-12-28T13:03:55.575259Z"
    },
    "papermill": {
     "duration": 0.013922,
     "end_time": "2023-12-28T13:03:55.579274",
     "exception": false,
     "start_time": "2023-12-28T13:03:55.565352",
     "status": "completed"
    },
    "tags": []
   },
   "outputs": [],
   "source": [
    "test_data['Fare'].fillna(test_data['Fare'].mean(), inplace=True)"
   ]
  },
  {
   "cell_type": "markdown",
   "id": "78193021",
   "metadata": {
    "papermill": {
     "duration": 0.00385,
     "end_time": "2023-12-28T13:03:55.587477",
     "exception": false,
     "start_time": "2023-12-28T13:03:55.583627",
     "status": "completed"
    },
    "tags": []
   },
   "source": [
    "Scaling and standardization of data"
   ]
  },
  {
   "cell_type": "code",
   "execution_count": 12,
   "id": "2fac544a",
   "metadata": {
    "execution": {
     "iopub.execute_input": "2023-12-28T13:03:55.597286Z",
     "iopub.status.busy": "2023-12-28T13:03:55.596906Z",
     "iopub.status.idle": "2023-12-28T13:03:56.784579Z",
     "shell.execute_reply": "2023-12-28T13:03:56.783165Z"
    },
    "papermill": {
     "duration": 1.195465,
     "end_time": "2023-12-28T13:03:56.787022",
     "exception": false,
     "start_time": "2023-12-28T13:03:55.591557",
     "status": "completed"
    },
    "tags": []
   },
   "outputs": [],
   "source": [
    "from sklearn.preprocessing import StandardScaler\n",
    "ss = StandardScaler()\n",
    "\n",
    "features = [ 'Pclass', 'Sex', 'Age', 'SibSp', 'Parch',\n",
    "       'Fare', 'Embarked_C', 'Embarked_Q', 'Embarked_S', 'cabin_letters_A',\n",
    "       'cabin_letters_B', 'cabin_letters_C', 'cabin_letters_D',\n",
    "       'cabin_letters_E', 'cabin_letters_F', 'cabin_letters_G'] \n",
    "\n",
    "train_y = train_data[\"Survived\"]\n",
    "train_data.drop(\"Survived\", axis=1, inplace=True)\n",
    "\n",
    "train_data_scaled = ss.fit_transform(train_data[features])\n",
    "test_data_scaled = ss.transform(test_data[features])"
   ]
  },
  {
   "cell_type": "code",
   "execution_count": 13,
   "id": "8269c05c",
   "metadata": {
    "execution": {
     "iopub.execute_input": "2023-12-28T13:03:56.796529Z",
     "iopub.status.busy": "2023-12-28T13:03:56.796140Z",
     "iopub.status.idle": "2023-12-28T13:03:57.317442Z",
     "shell.execute_reply": "2023-12-28T13:03:57.316596Z"
    },
    "papermill": {
     "duration": 0.528563,
     "end_time": "2023-12-28T13:03:57.319706",
     "exception": false,
     "start_time": "2023-12-28T13:03:56.791143",
     "status": "completed"
    },
    "tags": []
   },
   "outputs": [],
   "source": [
    "from xgboost import XGBClassifier\n",
    "from sklearn.model_selection import cross_val_score\n",
    "\n",
    "xgb = XGBClassifier(random_state=1)\n",
    "\n",
    "xgb.fit(train_data_scaled, train_y)\n",
    "predictions = xgb.predict(test_data_scaled)\n",
    "\n",
    "output= pd.DataFrame({'PassengerId' : test_data.PassengerId, 'Survived' : predictions})\n",
    "output.to_csv('submission.csv', index= False)"
   ]
  }
 ],
 "metadata": {
  "kaggle": {
   "accelerator": "none",
   "dataSources": [
    {
     "databundleVersionId": 26502,
     "sourceId": 3136,
     "sourceType": "competition"
    }
   ],
   "dockerImageVersionId": 30626,
   "isGpuEnabled": false,
   "isInternetEnabled": false,
   "language": "python",
   "sourceType": "notebook"
  },
  "kernelspec": {
   "display_name": "Python 3",
   "language": "python",
   "name": "python3"
  },
  "language_info": {
   "codemirror_mode": {
    "name": "ipython",
    "version": 3
   },
   "file_extension": ".py",
   "mimetype": "text/x-python",
   "name": "python",
   "nbconvert_exporter": "python",
   "pygments_lexer": "ipython3",
   "version": "3.10.12"
  },
  "papermill": {
   "default_parameters": {},
   "duration": 5.545942,
   "end_time": "2023-12-28T13:03:57.847048",
   "environment_variables": {},
   "exception": null,
   "input_path": "__notebook__.ipynb",
   "output_path": "__notebook__.ipynb",
   "parameters": {},
   "start_time": "2023-12-28T13:03:52.301106",
   "version": "2.4.0"
  }
 },
 "nbformat": 4,
 "nbformat_minor": 5
}
