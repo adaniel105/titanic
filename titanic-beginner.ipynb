{
 "cells": [
  {
   "cell_type": "code",
   "execution_count": 1,
   "id": "123f81fe",
   "metadata": {
    "_cell_guid": "b1076dfc-b9ad-4769-8c92-a6c4dae69d19",
    "_uuid": "8f2839f25d086af736a60e9eeb907d3b93b6e0e5",
    "execution": {
     "iopub.execute_input": "2023-12-28T12:38:43.718059Z",
     "iopub.status.busy": "2023-12-28T12:38:43.716953Z",
     "iopub.status.idle": "2023-12-28T12:38:44.229141Z",
     "shell.execute_reply": "2023-12-28T12:38:44.227902Z"
    },
    "papermill": {
     "duration": 0.523793,
     "end_time": "2023-12-28T12:38:44.231792",
     "exception": false,
     "start_time": "2023-12-28T12:38:43.707999",
     "status": "completed"
    },
    "tags": []
   },
   "outputs": [
    {
     "name": "stdout",
     "output_type": "stream",
     "text": [
      "/kaggle/input/titanic/train.csv\n",
      "/kaggle/input/titanic/test.csv\n",
      "/kaggle/input/titanic/gender_submission.csv\n"
     ]
    }
   ],
   "source": [
    "# This Python 3 environment comes with many helpful analytics libraries installed\n",
    "# It is defined by the kaggle/python Docker image: https://github.com/kaggle/docker-python\n",
    "# For example, here's several helpful packages to load\n",
    "\n",
    "import numpy as np # linear algebra\n",
    "import pandas as pd # data processing, CSV file I/O (e.g. pd.read_csv)\n",
    "\n",
    "# Input data files are available in the read-only \"../input/\" directory\n",
    "# For example, running this (by clicking run or pressing Shift+Enter) will list all files under the input directory\n",
    "\n",
    "import os\n",
    "for dirname, _, filenames in os.walk('/kaggle/input'):\n",
    "    for filename in filenames:\n",
    "        print(os.path.join(dirname, filename))\n",
    "\n",
    "# You can write up to 20GB to the current directory (/kaggle/working/) that gets preserved as output when you create a version using \"Save & Run All\" \n",
    "# You can also write temporary files to /kaggle/temp/, but they won't be saved outside of the current session"
   ]
  },
  {
   "cell_type": "code",
   "execution_count": 2,
   "id": "be7e950d",
   "metadata": {
    "execution": {
     "iopub.execute_input": "2023-12-28T12:38:44.246763Z",
     "iopub.status.busy": "2023-12-28T12:38:44.245890Z",
     "iopub.status.idle": "2023-12-28T12:38:44.281428Z",
     "shell.execute_reply": "2023-12-28T12:38:44.280128Z"
    },
    "papermill": {
     "duration": 0.046261,
     "end_time": "2023-12-28T12:38:44.284445",
     "exception": false,
     "start_time": "2023-12-28T12:38:44.238184",
     "status": "completed"
    },
    "tags": []
   },
   "outputs": [],
   "source": [
    "train_data = pd.read_csv(\"../input/titanic/train.csv\")\n",
    "test_data = pd.read_csv(\"../input/titanic/test.csv\")"
   ]
  },
  {
   "cell_type": "code",
   "execution_count": 3,
   "id": "8338eb3f",
   "metadata": {
    "execution": {
     "iopub.execute_input": "2023-12-28T12:38:44.298862Z",
     "iopub.status.busy": "2023-12-28T12:38:44.298334Z",
     "iopub.status.idle": "2023-12-28T12:38:44.336971Z",
     "shell.execute_reply": "2023-12-28T12:38:44.335656Z"
    },
    "papermill": {
     "duration": 0.049503,
     "end_time": "2023-12-28T12:38:44.339937",
     "exception": false,
     "start_time": "2023-12-28T12:38:44.290434",
     "status": "completed"
    },
    "tags": []
   },
   "outputs": [
    {
     "name": "stdout",
     "output_type": "stream",
     "text": [
      "<class 'pandas.core.frame.DataFrame'>\n",
      "RangeIndex: 891 entries, 0 to 890\n",
      "Data columns (total 12 columns):\n",
      " #   Column       Non-Null Count  Dtype  \n",
      "---  ------       --------------  -----  \n",
      " 0   PassengerId  891 non-null    int64  \n",
      " 1   Survived     891 non-null    int64  \n",
      " 2   Pclass       891 non-null    int64  \n",
      " 3   Name         891 non-null    object \n",
      " 4   Sex          891 non-null    object \n",
      " 5   Age          714 non-null    float64\n",
      " 6   SibSp        891 non-null    int64  \n",
      " 7   Parch        891 non-null    int64  \n",
      " 8   Ticket       891 non-null    object \n",
      " 9   Fare         891 non-null    float64\n",
      " 10  Cabin        204 non-null    object \n",
      " 11  Embarked     889 non-null    object \n",
      "dtypes: float64(2), int64(5), object(5)\n",
      "memory usage: 83.7+ KB\n"
     ]
    }
   ],
   "source": [
    "train_data.info()"
   ]
  },
  {
   "cell_type": "code",
   "execution_count": 4,
   "id": "1188bdac",
   "metadata": {
    "execution": {
     "iopub.execute_input": "2023-12-28T12:38:44.355093Z",
     "iopub.status.busy": "2023-12-28T12:38:44.353719Z",
     "iopub.status.idle": "2023-12-28T12:38:44.365963Z",
     "shell.execute_reply": "2023-12-28T12:38:44.364653Z"
    },
    "papermill": {
     "duration": 0.02294,
     "end_time": "2023-12-28T12:38:44.368918",
     "exception": false,
     "start_time": "2023-12-28T12:38:44.345978",
     "status": "completed"
    },
    "tags": []
   },
   "outputs": [
    {
     "data": {
      "text/plain": [
       "PassengerId      int64\n",
       "Survived         int64\n",
       "Pclass           int64\n",
       "Name            object\n",
       "Sex             object\n",
       "Age            float64\n",
       "SibSp            int64\n",
       "Parch            int64\n",
       "Ticket          object\n",
       "Fare           float64\n",
       "Cabin           object\n",
       "Embarked        object\n",
       "dtype: object"
      ]
     },
     "execution_count": 4,
     "metadata": {},
     "output_type": "execute_result"
    }
   ],
   "source": [
    "train_data.dtypes"
   ]
  },
  {
   "cell_type": "code",
   "execution_count": 5,
   "id": "b8dc8407",
   "metadata": {
    "execution": {
     "iopub.execute_input": "2023-12-28T12:38:44.384042Z",
     "iopub.status.busy": "2023-12-28T12:38:44.383330Z",
     "iopub.status.idle": "2023-12-28T12:38:44.394174Z",
     "shell.execute_reply": "2023-12-28T12:38:44.392753Z"
    },
    "papermill": {
     "duration": 0.021762,
     "end_time": "2023-12-28T12:38:44.396850",
     "exception": false,
     "start_time": "2023-12-28T12:38:44.375088",
     "status": "completed"
    },
    "tags": []
   },
   "outputs": [],
   "source": [
    "train_data[\"Age\"].fillna(train_data[\"Age\"].mean(), inplace=True)\n",
    "test_data[\"Age\"].fillna(test_data[\"Age\"].mean(), inplace=True)"
   ]
  },
  {
   "cell_type": "code",
   "execution_count": 6,
   "id": "b00d178d",
   "metadata": {
    "execution": {
     "iopub.execute_input": "2023-12-28T12:38:44.411925Z",
     "iopub.status.busy": "2023-12-28T12:38:44.411433Z",
     "iopub.status.idle": "2023-12-28T12:38:44.434853Z",
     "shell.execute_reply": "2023-12-28T12:38:44.433783Z"
    },
    "papermill": {
     "duration": 0.034998,
     "end_time": "2023-12-28T12:38:44.438252",
     "exception": false,
     "start_time": "2023-12-28T12:38:44.403254",
     "status": "completed"
    },
    "tags": []
   },
   "outputs": [
    {
     "data": {
      "text/plain": [
       "0"
      ]
     },
     "execution_count": 6,
     "metadata": {},
     "output_type": "execute_result"
    }
   ],
   "source": [
    "train_data = train_data.drop(columns=[\"Name\"])\n",
    "train_data[\"Sex\"] = train_data[\"Sex\"].map({\"male\" : 1, \"female\" : 0})\n",
    "train_data[\"Embarked\"].fillna(train_data[\"Embarked\"].mode()[0], inplace=True)\n",
    "\n",
    "\n",
    "test_data = test_data.drop(columns=[\"Name\"])\n",
    "test_data[\"Sex\"] = test_data[\"Sex\"].map({\"male\" : 1, \"female\" : 0})\n",
    "test_data[\"Embarked\"].fillna(test_data[\"Embarked\"].mode()[0], inplace=True)\n",
    "\n",
    "train_data.Embarked.isna().sum()\n"
   ]
  },
  {
   "cell_type": "code",
   "execution_count": 7,
   "id": "6a5d5949",
   "metadata": {
    "execution": {
     "iopub.execute_input": "2023-12-28T12:38:44.453721Z",
     "iopub.status.busy": "2023-12-28T12:38:44.453219Z",
     "iopub.status.idle": "2023-12-28T12:38:44.470580Z",
     "shell.execute_reply": "2023-12-28T12:38:44.469069Z"
    },
    "papermill": {
     "duration": 0.028423,
     "end_time": "2023-12-28T12:38:44.473460",
     "exception": false,
     "start_time": "2023-12-28T12:38:44.445037",
     "status": "completed"
    },
    "tags": []
   },
   "outputs": [],
   "source": [
    "train_data = train_data.join(pd.get_dummies(train_data[\"Embarked\"], prefix=\"Embarked\"))\n",
    "train_data.drop([\"Embarked\", \"Ticket\"], axis=1, inplace=True)\n",
    "\n",
    "test_data = test_data.join(pd.get_dummies(test_data[\"Embarked\"], prefix=\"Embarked\"))\n",
    "test_data.drop([\"Embarked\", \"Ticket\"], axis=1, inplace=True)"
   ]
  },
  {
   "cell_type": "code",
   "execution_count": 8,
   "id": "d9dc0be8",
   "metadata": {
    "execution": {
     "iopub.execute_input": "2023-12-28T12:38:44.489369Z",
     "iopub.status.busy": "2023-12-28T12:38:44.488858Z",
     "iopub.status.idle": "2023-12-28T12:38:44.498985Z",
     "shell.execute_reply": "2023-12-28T12:38:44.497752Z"
    },
    "papermill": {
     "duration": 0.021384,
     "end_time": "2023-12-28T12:38:44.501620",
     "exception": false,
     "start_time": "2023-12-28T12:38:44.480236",
     "status": "completed"
    },
    "tags": []
   },
   "outputs": [],
   "source": [
    "train_data[\"cabin_letters\"] = train_data.Cabin.apply(lambda x: str(x)[0])\n",
    "test_data[\"cabin_letters\"] = test_data.Cabin.apply(lambda x: str(x)[0])\n"
   ]
  },
  {
   "cell_type": "code",
   "execution_count": 9,
   "id": "45ecf47e",
   "metadata": {
    "execution": {
     "iopub.execute_input": "2023-12-28T12:38:44.517595Z",
     "iopub.status.busy": "2023-12-28T12:38:44.516533Z",
     "iopub.status.idle": "2023-12-28T12:38:44.531319Z",
     "shell.execute_reply": "2023-12-28T12:38:44.530210Z"
    },
    "papermill": {
     "duration": 0.026,
     "end_time": "2023-12-28T12:38:44.534132",
     "exception": false,
     "start_time": "2023-12-28T12:38:44.508132",
     "status": "completed"
    },
    "tags": []
   },
   "outputs": [],
   "source": [
    "train_data = train_data.join(pd.get_dummies(train_data['cabin_letters'], prefix=\"cabin_letters\"))\n",
    "train_data.drop([\"Cabin\", \"cabin_letters\"], axis=1, inplace=True)\n",
    "\n",
    "test_data = test_data.join(pd.get_dummies(test_data['cabin_letters'], prefix=\"cabin_letters\"))\n",
    "test_data.drop([\"Cabin\", \"cabin_letters\"], axis=1, inplace=True)\n",
    "\n",
    "\n"
   ]
  },
  {
   "cell_type": "code",
   "execution_count": 10,
   "id": "9f772313",
   "metadata": {
    "execution": {
     "iopub.execute_input": "2023-12-28T12:38:44.550794Z",
     "iopub.status.busy": "2023-12-28T12:38:44.549232Z",
     "iopub.status.idle": "2023-12-28T12:38:44.562656Z",
     "shell.execute_reply": "2023-12-28T12:38:44.561293Z"
    },
    "papermill": {
     "duration": 0.025279,
     "end_time": "2023-12-28T12:38:44.565897",
     "exception": false,
     "start_time": "2023-12-28T12:38:44.540618",
     "status": "completed"
    },
    "tags": []
   },
   "outputs": [
    {
     "name": "stdout",
     "output_type": "stream",
     "text": [
      "PassengerId        0\n",
      "Survived           0\n",
      "Pclass             0\n",
      "Sex                0\n",
      "Age                0\n",
      "SibSp              0\n",
      "Parch              0\n",
      "Fare               0\n",
      "Embarked_C         0\n",
      "Embarked_Q         0\n",
      "Embarked_S         0\n",
      "cabin_letters_A    0\n",
      "cabin_letters_B    0\n",
      "cabin_letters_C    0\n",
      "cabin_letters_D    0\n",
      "cabin_letters_E    0\n",
      "cabin_letters_F    0\n",
      "cabin_letters_G    0\n",
      "cabin_letters_T    0\n",
      "cabin_letters_n    0\n",
      "dtype: int64\n",
      "PassengerId        0\n",
      "Pclass             0\n",
      "Sex                0\n",
      "Age                0\n",
      "SibSp              0\n",
      "Parch              0\n",
      "Fare               1\n",
      "Embarked_C         0\n",
      "Embarked_Q         0\n",
      "Embarked_S         0\n",
      "cabin_letters_A    0\n",
      "cabin_letters_B    0\n",
      "cabin_letters_C    0\n",
      "cabin_letters_D    0\n",
      "cabin_letters_E    0\n",
      "cabin_letters_F    0\n",
      "cabin_letters_G    0\n",
      "cabin_letters_n    0\n",
      "dtype: int64\n"
     ]
    }
   ],
   "source": [
    "print(train_data.isna().sum())\n",
    "print(test_data.isna().sum())"
   ]
  },
  {
   "cell_type": "code",
   "execution_count": 11,
   "id": "07c77a58",
   "metadata": {
    "execution": {
     "iopub.execute_input": "2023-12-28T12:38:44.581580Z",
     "iopub.status.busy": "2023-12-28T12:38:44.581047Z",
     "iopub.status.idle": "2023-12-28T12:38:44.589135Z",
     "shell.execute_reply": "2023-12-28T12:38:44.587797Z"
    },
    "papermill": {
     "duration": 0.019856,
     "end_time": "2023-12-28T12:38:44.592457",
     "exception": false,
     "start_time": "2023-12-28T12:38:44.572601",
     "status": "completed"
    },
    "tags": []
   },
   "outputs": [],
   "source": [
    "test_data['Fare'].fillna(test_data['Fare'].mean(), inplace=True)"
   ]
  },
  {
   "cell_type": "markdown",
   "id": "6f788486",
   "metadata": {
    "papermill": {
     "duration": 0.006129,
     "end_time": "2023-12-28T12:38:44.605313",
     "exception": false,
     "start_time": "2023-12-28T12:38:44.599184",
     "status": "completed"
    },
    "tags": []
   },
   "source": [
    "Scaling and standardization of data"
   ]
  },
  {
   "cell_type": "code",
   "execution_count": 12,
   "id": "acbcdd6b",
   "metadata": {
    "execution": {
     "iopub.execute_input": "2023-12-28T12:38:44.620560Z",
     "iopub.status.busy": "2023-12-28T12:38:44.620067Z",
     "iopub.status.idle": "2023-12-28T12:38:45.879227Z",
     "shell.execute_reply": "2023-12-28T12:38:45.877791Z"
    },
    "papermill": {
     "duration": 1.270549,
     "end_time": "2023-12-28T12:38:45.882498",
     "exception": false,
     "start_time": "2023-12-28T12:38:44.611949",
     "status": "completed"
    },
    "tags": []
   },
   "outputs": [],
   "source": [
    "from sklearn.preprocessing import StandardScaler\n",
    "ss = StandardScaler()\n",
    "\n",
    "features = [ 'Pclass', 'Sex', 'Age', 'SibSp', 'Parch',\n",
    "       'Fare', 'Embarked_C', 'Embarked_Q', 'Embarked_S', 'cabin_letters_A',\n",
    "       'cabin_letters_B', 'cabin_letters_C', 'cabin_letters_D',\n",
    "       'cabin_letters_E', 'cabin_letters_F', 'cabin_letters_G'] \n",
    "\n",
    "train_y = train_data[\"Survived\"]\n",
    "train_data.drop(\"Survived\", axis=1, inplace=True)\n",
    "\n",
    "train_data_scaled = ss.fit_transform(train_data[features])\n",
    "test_data_scaled = ss.transform(test_data[features])"
   ]
  },
  {
   "cell_type": "code",
   "execution_count": 13,
   "id": "e0b4379c",
   "metadata": {
    "execution": {
     "iopub.execute_input": "2023-12-28T12:38:45.898923Z",
     "iopub.status.busy": "2023-12-28T12:38:45.897536Z",
     "iopub.status.idle": "2023-12-28T12:38:46.756709Z",
     "shell.execute_reply": "2023-12-28T12:38:46.755372Z"
    },
    "papermill": {
     "duration": 0.871439,
     "end_time": "2023-12-28T12:38:46.760275",
     "exception": false,
     "start_time": "2023-12-28T12:38:45.888836",
     "status": "completed"
    },
    "tags": []
   },
   "outputs": [],
   "source": [
    "from sklearn.ensemble import RandomForestClassifier\n",
    "\n",
    "\n",
    "rf = RandomForestClassifier()\n",
    "\n",
    "rf.fit(train_data_scaled, train_y)\n",
    "predictions = rf.predict(test_data_scaled)\n",
    "\n",
    "output= pd.DataFrame({'PassengerId' : test_data.PassengerId, 'Survived' : predictions})\n",
    "output.to_csv('submission.csv', index= False)"
   ]
  }
 ],
 "metadata": {
  "kaggle": {
   "accelerator": "none",
   "dataSources": [
    {
     "databundleVersionId": 26502,
     "sourceId": 3136,
     "sourceType": "competition"
    }
   ],
   "dockerImageVersionId": 30626,
   "isGpuEnabled": false,
   "isInternetEnabled": false,
   "language": "python",
   "sourceType": "notebook"
  },
  "kernelspec": {
   "display_name": "Python 3",
   "language": "python",
   "name": "python3"
  },
  "language_info": {
   "codemirror_mode": {
    "name": "ipython",
    "version": 3
   },
   "file_extension": ".py",
   "mimetype": "text/x-python",
   "name": "python",
   "nbconvert_exporter": "python",
   "pygments_lexer": "ipython3",
   "version": "3.10.12"
  },
  "papermill": {
   "default_parameters": {},
   "duration": 7.812746,
   "end_time": "2023-12-28T12:38:47.692700",
   "environment_variables": {},
   "exception": null,
   "input_path": "__notebook__.ipynb",
   "output_path": "__notebook__.ipynb",
   "parameters": {},
   "start_time": "2023-12-28T12:38:39.879954",
   "version": "2.4.0"
  }
 },
 "nbformat": 4,
 "nbformat_minor": 5
}
