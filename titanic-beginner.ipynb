{
 "cells": [
  {
   "cell_type": "code",
   "execution_count": 1,
   "id": "2553648d",
   "metadata": {
    "_cell_guid": "b1076dfc-b9ad-4769-8c92-a6c4dae69d19",
    "_uuid": "8f2839f25d086af736a60e9eeb907d3b93b6e0e5",
    "execution": {
     "iopub.execute_input": "2023-12-28T12:17:29.344093Z",
     "iopub.status.busy": "2023-12-28T12:17:29.343604Z",
     "iopub.status.idle": "2023-12-28T12:17:29.736198Z",
     "shell.execute_reply": "2023-12-28T12:17:29.734782Z"
    },
    "papermill": {
     "duration": 0.401038,
     "end_time": "2023-12-28T12:17:29.738398",
     "exception": false,
     "start_time": "2023-12-28T12:17:29.337360",
     "status": "completed"
    },
    "tags": []
   },
   "outputs": [
    {
     "name": "stdout",
     "output_type": "stream",
     "text": [
      "/kaggle/input/titanic/train.csv\n",
      "/kaggle/input/titanic/test.csv\n",
      "/kaggle/input/titanic/gender_submission.csv\n"
     ]
    }
   ],
   "source": [
    "# This Python 3 environment comes with many helpful analytics libraries installed\n",
    "# It is defined by the kaggle/python Docker image: https://github.com/kaggle/docker-python\n",
    "# For example, here's several helpful packages to load\n",
    "\n",
    "import numpy as np # linear algebra\n",
    "import pandas as pd # data processing, CSV file I/O (e.g. pd.read_csv)\n",
    "\n",
    "# Input data files are available in the read-only \"../input/\" directory\n",
    "# For example, running this (by clicking run or pressing Shift+Enter) will list all files under the input directory\n",
    "\n",
    "import os\n",
    "for dirname, _, filenames in os.walk('/kaggle/input'):\n",
    "    for filename in filenames:\n",
    "        print(os.path.join(dirname, filename))\n",
    "\n",
    "# You can write up to 20GB to the current directory (/kaggle/working/) that gets preserved as output when you create a version using \"Save & Run All\" \n",
    "# You can also write temporary files to /kaggle/temp/, but they won't be saved outside of the current session"
   ]
  },
  {
   "cell_type": "code",
   "execution_count": 2,
   "id": "39e0c2bb",
   "metadata": {
    "execution": {
     "iopub.execute_input": "2023-12-28T12:17:29.751076Z",
     "iopub.status.busy": "2023-12-28T12:17:29.750512Z",
     "iopub.status.idle": "2023-12-28T12:17:29.779379Z",
     "shell.execute_reply": "2023-12-28T12:17:29.778369Z"
    },
    "papermill": {
     "duration": 0.037235,
     "end_time": "2023-12-28T12:17:29.781891",
     "exception": false,
     "start_time": "2023-12-28T12:17:29.744656",
     "status": "completed"
    },
    "tags": []
   },
   "outputs": [],
   "source": [
    "train_data = pd.read_csv(\"../input/titanic/train.csv\")\n",
    "test_data = pd.read_csv(\"../input/titanic/test.csv\")"
   ]
  },
  {
   "cell_type": "code",
   "execution_count": 3,
   "id": "0b5337d8",
   "metadata": {
    "execution": {
     "iopub.execute_input": "2023-12-28T12:17:29.792301Z",
     "iopub.status.busy": "2023-12-28T12:17:29.791194Z",
     "iopub.status.idle": "2023-12-28T12:17:29.822774Z",
     "shell.execute_reply": "2023-12-28T12:17:29.822013Z"
    },
    "papermill": {
     "duration": 0.038982,
     "end_time": "2023-12-28T12:17:29.825027",
     "exception": false,
     "start_time": "2023-12-28T12:17:29.786045",
     "status": "completed"
    },
    "tags": []
   },
   "outputs": [
    {
     "name": "stdout",
     "output_type": "stream",
     "text": [
      "<class 'pandas.core.frame.DataFrame'>\n",
      "RangeIndex: 891 entries, 0 to 890\n",
      "Data columns (total 12 columns):\n",
      " #   Column       Non-Null Count  Dtype  \n",
      "---  ------       --------------  -----  \n",
      " 0   PassengerId  891 non-null    int64  \n",
      " 1   Survived     891 non-null    int64  \n",
      " 2   Pclass       891 non-null    int64  \n",
      " 3   Name         891 non-null    object \n",
      " 4   Sex          891 non-null    object \n",
      " 5   Age          714 non-null    float64\n",
      " 6   SibSp        891 non-null    int64  \n",
      " 7   Parch        891 non-null    int64  \n",
      " 8   Ticket       891 non-null    object \n",
      " 9   Fare         891 non-null    float64\n",
      " 10  Cabin        204 non-null    object \n",
      " 11  Embarked     889 non-null    object \n",
      "dtypes: float64(2), int64(5), object(5)\n",
      "memory usage: 83.7+ KB\n"
     ]
    }
   ],
   "source": [
    "train_data.info()"
   ]
  },
  {
   "cell_type": "code",
   "execution_count": 4,
   "id": "75c959bd",
   "metadata": {
    "execution": {
     "iopub.execute_input": "2023-12-28T12:17:29.834848Z",
     "iopub.status.busy": "2023-12-28T12:17:29.834129Z",
     "iopub.status.idle": "2023-12-28T12:17:29.841743Z",
     "shell.execute_reply": "2023-12-28T12:17:29.841029Z"
    },
    "papermill": {
     "duration": 0.014406,
     "end_time": "2023-12-28T12:17:29.843533",
     "exception": false,
     "start_time": "2023-12-28T12:17:29.829127",
     "status": "completed"
    },
    "tags": []
   },
   "outputs": [
    {
     "data": {
      "text/plain": [
       "PassengerId      int64\n",
       "Survived         int64\n",
       "Pclass           int64\n",
       "Name            object\n",
       "Sex             object\n",
       "Age            float64\n",
       "SibSp            int64\n",
       "Parch            int64\n",
       "Ticket          object\n",
       "Fare           float64\n",
       "Cabin           object\n",
       "Embarked        object\n",
       "dtype: object"
      ]
     },
     "execution_count": 4,
     "metadata": {},
     "output_type": "execute_result"
    }
   ],
   "source": [
    "train_data.dtypes"
   ]
  },
  {
   "cell_type": "code",
   "execution_count": 5,
   "id": "b7fed820",
   "metadata": {
    "execution": {
     "iopub.execute_input": "2023-12-28T12:17:29.853513Z",
     "iopub.status.busy": "2023-12-28T12:17:29.852959Z",
     "iopub.status.idle": "2023-12-28T12:17:29.860170Z",
     "shell.execute_reply": "2023-12-28T12:17:29.859360Z"
    },
    "papermill": {
     "duration": 0.014681,
     "end_time": "2023-12-28T12:17:29.862311",
     "exception": false,
     "start_time": "2023-12-28T12:17:29.847630",
     "status": "completed"
    },
    "tags": []
   },
   "outputs": [],
   "source": [
    "train_data[\"Age\"].fillna(train_data[\"Age\"].mean(), inplace=True)\n",
    "test_data[\"Age\"].fillna(test_data[\"Age\"].mean(), inplace=True)"
   ]
  },
  {
   "cell_type": "code",
   "execution_count": 6,
   "id": "5b6ff3b9",
   "metadata": {
    "execution": {
     "iopub.execute_input": "2023-12-28T12:17:29.872508Z",
     "iopub.status.busy": "2023-12-28T12:17:29.871657Z",
     "iopub.status.idle": "2023-12-28T12:17:29.888386Z",
     "shell.execute_reply": "2023-12-28T12:17:29.887489Z"
    },
    "papermill": {
     "duration": 0.023815,
     "end_time": "2023-12-28T12:17:29.890339",
     "exception": false,
     "start_time": "2023-12-28T12:17:29.866524",
     "status": "completed"
    },
    "tags": []
   },
   "outputs": [
    {
     "data": {
      "text/plain": [
       "0"
      ]
     },
     "execution_count": 6,
     "metadata": {},
     "output_type": "execute_result"
    }
   ],
   "source": [
    "train_data = train_data.drop(columns=[\"Name\"])\n",
    "train_data[\"Sex\"] = train_data[\"Sex\"].map({\"male\" : 1, \"female\" : 0})\n",
    "train_data[\"Embarked\"].fillna(train_data[\"Embarked\"].mode()[0], inplace=True)\n",
    "\n",
    "\n",
    "test_data = test_data.drop(columns=[\"Name\"])\n",
    "test_data[\"Sex\"] = test_data[\"Sex\"].map({\"male\" : 1, \"female\" : 0})\n",
    "test_data[\"Embarked\"].fillna(test_data[\"Embarked\"].mode()[0], inplace=True)\n",
    "\n",
    "train_data.Embarked.isna().sum()\n"
   ]
  },
  {
   "cell_type": "code",
   "execution_count": 7,
   "id": "0b933ea7",
   "metadata": {
    "execution": {
     "iopub.execute_input": "2023-12-28T12:17:29.900274Z",
     "iopub.status.busy": "2023-12-28T12:17:29.899882Z",
     "iopub.status.idle": "2023-12-28T12:17:29.914085Z",
     "shell.execute_reply": "2023-12-28T12:17:29.913088Z"
    },
    "papermill": {
     "duration": 0.021598,
     "end_time": "2023-12-28T12:17:29.916213",
     "exception": false,
     "start_time": "2023-12-28T12:17:29.894615",
     "status": "completed"
    },
    "tags": []
   },
   "outputs": [],
   "source": [
    "train_data = train_data.join(pd.get_dummies(train_data[\"Embarked\"], prefix=\"Embarked\"))\n",
    "train_data.drop([\"Embarked\", \"Ticket\"], axis=1, inplace=True)\n",
    "\n",
    "test_data = test_data.join(pd.get_dummies(test_data[\"Embarked\"], prefix=\"Embarked\"))\n",
    "test_data.drop([\"Embarked\", \"Ticket\"], axis=1, inplace=True)"
   ]
  },
  {
   "cell_type": "code",
   "execution_count": 8,
   "id": "1e0f9409",
   "metadata": {
    "execution": {
     "iopub.execute_input": "2023-12-28T12:17:29.926309Z",
     "iopub.status.busy": "2023-12-28T12:17:29.925934Z",
     "iopub.status.idle": "2023-12-28T12:17:29.933872Z",
     "shell.execute_reply": "2023-12-28T12:17:29.932665Z"
    },
    "papermill": {
     "duration": 0.015348,
     "end_time": "2023-12-28T12:17:29.936024",
     "exception": false,
     "start_time": "2023-12-28T12:17:29.920676",
     "status": "completed"
    },
    "tags": []
   },
   "outputs": [],
   "source": [
    "train_data[\"cabin_letters\"] = train_data.Cabin.apply(lambda x: str(x)[0])\n",
    "test_data[\"cabin_letters\"] = test_data.Cabin.apply(lambda x: str(x)[0])\n"
   ]
  },
  {
   "cell_type": "code",
   "execution_count": 9,
   "id": "87779cb5",
   "metadata": {
    "execution": {
     "iopub.execute_input": "2023-12-28T12:17:29.947807Z",
     "iopub.status.busy": "2023-12-28T12:17:29.947342Z",
     "iopub.status.idle": "2023-12-28T12:17:29.961111Z",
     "shell.execute_reply": "2023-12-28T12:17:29.960014Z"
    },
    "papermill": {
     "duration": 0.022747,
     "end_time": "2023-12-28T12:17:29.963446",
     "exception": false,
     "start_time": "2023-12-28T12:17:29.940699",
     "status": "completed"
    },
    "tags": []
   },
   "outputs": [],
   "source": [
    "train_data = train_data.join(pd.get_dummies(train_data['cabin_letters'], prefix=\"cabin_letters\"))\n",
    "train_data.drop([\"Cabin\", \"cabin_letters\"], axis=1, inplace=True)\n",
    "\n",
    "test_data = test_data.join(pd.get_dummies(test_data['cabin_letters'], prefix=\"cabin_letters\"))\n",
    "test_data.drop([\"Cabin\", \"cabin_letters\"], axis=1, inplace=True)\n",
    "\n",
    "\n"
   ]
  },
  {
   "cell_type": "code",
   "execution_count": 10,
   "id": "9b527077",
   "metadata": {
    "execution": {
     "iopub.execute_input": "2023-12-28T12:17:29.974222Z",
     "iopub.status.busy": "2023-12-28T12:17:29.973844Z",
     "iopub.status.idle": "2023-12-28T12:17:29.981734Z",
     "shell.execute_reply": "2023-12-28T12:17:29.980954Z"
    },
    "papermill": {
     "duration": 0.015645,
     "end_time": "2023-12-28T12:17:29.983833",
     "exception": false,
     "start_time": "2023-12-28T12:17:29.968188",
     "status": "completed"
    },
    "tags": []
   },
   "outputs": [
    {
     "name": "stdout",
     "output_type": "stream",
     "text": [
      "PassengerId        0\n",
      "Survived           0\n",
      "Pclass             0\n",
      "Sex                0\n",
      "Age                0\n",
      "SibSp              0\n",
      "Parch              0\n",
      "Fare               0\n",
      "Embarked_C         0\n",
      "Embarked_Q         0\n",
      "Embarked_S         0\n",
      "cabin_letters_A    0\n",
      "cabin_letters_B    0\n",
      "cabin_letters_C    0\n",
      "cabin_letters_D    0\n",
      "cabin_letters_E    0\n",
      "cabin_letters_F    0\n",
      "cabin_letters_G    0\n",
      "cabin_letters_T    0\n",
      "cabin_letters_n    0\n",
      "dtype: int64\n",
      "PassengerId        0\n",
      "Pclass             0\n",
      "Sex                0\n",
      "Age                0\n",
      "SibSp              0\n",
      "Parch              0\n",
      "Fare               1\n",
      "Embarked_C         0\n",
      "Embarked_Q         0\n",
      "Embarked_S         0\n",
      "cabin_letters_A    0\n",
      "cabin_letters_B    0\n",
      "cabin_letters_C    0\n",
      "cabin_letters_D    0\n",
      "cabin_letters_E    0\n",
      "cabin_letters_F    0\n",
      "cabin_letters_G    0\n",
      "cabin_letters_n    0\n",
      "dtype: int64\n"
     ]
    }
   ],
   "source": [
    "print(train_data.isna().sum())\n",
    "print(test_data.isna().sum())"
   ]
  },
  {
   "cell_type": "code",
   "execution_count": 11,
   "id": "1e129482",
   "metadata": {
    "execution": {
     "iopub.execute_input": "2023-12-28T12:17:29.994683Z",
     "iopub.status.busy": "2023-12-28T12:17:29.993888Z",
     "iopub.status.idle": "2023-12-28T12:17:29.999474Z",
     "shell.execute_reply": "2023-12-28T12:17:29.998559Z"
    },
    "papermill": {
     "duration": 0.013105,
     "end_time": "2023-12-28T12:17:30.001476",
     "exception": false,
     "start_time": "2023-12-28T12:17:29.988371",
     "status": "completed"
    },
    "tags": []
   },
   "outputs": [],
   "source": [
    "test_data['Fare'].fillna(test_data['Fare'].mean(), inplace=True)"
   ]
  },
  {
   "cell_type": "markdown",
   "id": "a52a9d4a",
   "metadata": {
    "papermill": {
     "duration": 0.004275,
     "end_time": "2023-12-28T12:17:30.010456",
     "exception": false,
     "start_time": "2023-12-28T12:17:30.006181",
     "status": "completed"
    },
    "tags": []
   },
   "source": [
    "Scaling and standardization of data"
   ]
  },
  {
   "cell_type": "code",
   "execution_count": 12,
   "id": "e2ef6f89",
   "metadata": {
    "execution": {
     "iopub.execute_input": "2023-12-28T12:17:30.022070Z",
     "iopub.status.busy": "2023-12-28T12:17:30.020892Z",
     "iopub.status.idle": "2023-12-28T12:17:31.101517Z",
     "shell.execute_reply": "2023-12-28T12:17:31.100376Z"
    },
    "papermill": {
     "duration": 1.089088,
     "end_time": "2023-12-28T12:17:31.104278",
     "exception": false,
     "start_time": "2023-12-28T12:17:30.015190",
     "status": "completed"
    },
    "tags": []
   },
   "outputs": [],
   "source": [
    "from sklearn.preprocessing import StandardScaler\n",
    "ss = StandardScaler()\n",
    "\n",
    "features = [ 'Pclass', 'Sex', 'Age', 'SibSp', 'Parch',\n",
    "       'Fare', 'Embarked_C', 'Embarked_Q', 'Embarked_S', 'cabin_letters_A',\n",
    "       'cabin_letters_B', 'cabin_letters_C', 'cabin_letters_D',\n",
    "       'cabin_letters_E', 'cabin_letters_F', 'cabin_letters_G',] \n",
    "\n",
    "train_y = train_data[\"Survived\"]\n",
    "train_data.drop(\"Survived\", axis=1, inplace=True)\n",
    "\n",
    "train_data_scaled = ss.fit_transform(train_data[features])\n",
    "test_data_scaled = ss.transform(test_data[features])"
   ]
  },
  {
   "cell_type": "code",
   "execution_count": 13,
   "id": "2c69e026",
   "metadata": {
    "execution": {
     "iopub.execute_input": "2023-12-28T12:17:31.115397Z",
     "iopub.status.busy": "2023-12-28T12:17:31.115020Z",
     "iopub.status.idle": "2023-12-28T12:17:31.773866Z",
     "shell.execute_reply": "2023-12-28T12:17:31.772957Z"
    },
    "papermill": {
     "duration": 0.667147,
     "end_time": "2023-12-28T12:17:31.776445",
     "exception": false,
     "start_time": "2023-12-28T12:17:31.109298",
     "status": "completed"
    },
    "tags": []
   },
   "outputs": [],
   "source": [
    "from sklearn.ensemble import RandomForestClassifier\n",
    "\n",
    "\n",
    "rf = RandomForestClassifier()\n",
    "\n",
    "rf.fit(train_data_scaled, train_y)\n",
    "predictions = rf.predict(test_data_scaled)\n",
    "\n",
    "output= pd.DataFrame({'PassengerId' : test_data.PassengerId, 'Survived' : predictions})\n",
    "output.to_csv('submission.csv', index= False)"
   ]
  }
 ],
 "metadata": {
  "kaggle": {
   "accelerator": "none",
   "dataSources": [
    {
     "databundleVersionId": 26502,
     "sourceId": 3136,
     "sourceType": "competition"
    }
   ],
   "dockerImageVersionId": 30626,
   "isGpuEnabled": false,
   "isInternetEnabled": false,
   "language": "python",
   "sourceType": "notebook"
  },
  "kernelspec": {
   "display_name": "Python 3",
   "language": "python",
   "name": "python3"
  },
  "language_info": {
   "codemirror_mode": {
    "name": "ipython",
    "version": 3
   },
   "file_extension": ".py",
   "mimetype": "text/x-python",
   "name": "python",
   "nbconvert_exporter": "python",
   "pygments_lexer": "ipython3",
   "version": "3.10.12"
  },
  "papermill": {
   "default_parameters": {},
   "duration": 5.980618,
   "end_time": "2023-12-28T12:17:32.300709",
   "environment_variables": {},
   "exception": null,
   "input_path": "__notebook__.ipynb",
   "output_path": "__notebook__.ipynb",
   "parameters": {},
   "start_time": "2023-12-28T12:17:26.320091",
   "version": "2.4.0"
  }
 },
 "nbformat": 4,
 "nbformat_minor": 5
}
